{
 "cells": [
  {
   "cell_type": "code",
   "execution_count": null,
   "metadata": {},
   "outputs": [],
   "source": [
    "import itertools\n",
    "t = [0,1,2,3,4,5,6,7,8,9]\n",
    "c = list(itertools.combinations_with_replacement(t, 90))\n",
    "unq = int(c)\n",
    "print(unq)"
   ]
  }
 ],
 "metadata": {
  "kernelspec": {
   "display_name": "Python 3",
   "language": "python",
   "name": "python3"
  },
  "language_info": {
   "codemirror_mode": {
    "name": "ipython",
    "version": 3
   },
   "file_extension": ".py",
   "mimetype": "text/x-python",
   "name": "python",
   "nbconvert_exporter": "python",
   "pygments_lexer": "ipython3",
   "version": "3.10.4 (tags/v3.10.4:9d38120, Mar 23 2022, 23:13:41) [MSC v.1929 64 bit (AMD64)]"
  },
  "orig_nbformat": 4,
  "vscode": {
   "interpreter": {
    "hash": "c87e09a25cc349ffbf4902e01041b71d4bdbad386d2bfefdd157d506d9f5b22f"
   }
  }
 },
 "nbformat": 4,
 "nbformat_minor": 2
}
